{
 "cells": [
  {
   "cell_type": "markdown",
   "metadata": {},
   "source": [
    "# AOAI Test"
   ]
  },
  {
   "cell_type": "markdown",
   "metadata": {},
   "source": [
    "A notebook to quickly test out all AOAI APIs with different models."
   ]
  },
  {
   "cell_type": "markdown",
   "metadata": {},
   "source": [
    "## Models"
   ]
  },
  {
   "cell_type": "markdown",
   "metadata": {},
   "source": [
    "### From Doc"
   ]
  },
  {
   "cell_type": "markdown",
   "metadata": {},
   "source": [
    "Reference: [Microsoft Learn AOAI Doc Models Page](https://learn.microsoft.com/en-us/azure/ai-services/openai/concepts/models)"
   ]
  },
  {
   "cell_type": "markdown",
   "metadata": {},
   "source": [
    "#### GPT\n",
    "- gpt-4o\n",
    "    - name: `gpt-4o`, version: `2024-05-13`\n",
    "    - JSON mode, parallel function calling\n",
    "    - fixed a bug in non-English language function call\n",
    "    - global standard deployment available\n",
    "- gpt-4-turbo \n",
    "    - name: `gpt-4`, current GA version: `turbo-2024-04-09`\n",
    "    - past versions: \n",
    "        - `1106-preview` -> `0125-preview` -> `visioin-preview` \n",
    "            - will be (auto)updated to a stable version of `gpt-4` (no service disruption)\n",
    "                - if \"no autoupgrade\" is set, no upgrade happens and they will stop operating when the upgrade rolls to the region\n",
    "        - `0125-preview` addressed UTF-8 bug for non-English language \n",
    "    - Difference from OpenAI:\n",
    "        - Requests with `image_url` to AOAI version **dosn't support** __JSON mode__ and __function calling__\n",
    "    - **PTU** deployment type **doesn't support image**\n",
    "- gpt-4 (older models)\n",
    "    - name: `gpt-4` (or `gpt-4-32k` for 32K input tokens) \n",
    "        - newest version: `0613` (retire no early than 2024/09/30)\n",
    "        - older version: `0314` (retire no early than 2024/07/05)\n",
    "    - `0613` can do basic function call, `0314` cannot\n",
    "- gpt-35-turbo\n",
    "    - name: `gpt-35-turbo`, version `0125`, `1106`(older)\n",
    "    - old\n",
    "        - name `gpt-35-turbo`, version `0613`, `0301`: 4k input token\n",
    "        - name `gpt-35-turbo-instruct`, version `0914`: 4k input token **completion only**\n",
    "        - name `gpt-35-turbo-16k`, version `0613`: 0125 and 1106 has 16k \n"
   ]
  },
  {
   "cell_type": "markdown",
   "metadata": {},
   "source": [
    "#### Audio\n",
    "- "
   ]
  },
  {
   "cell_type": "markdown",
   "metadata": {},
   "source": [
    "#### Image\n",
    "- "
   ]
  },
  {
   "cell_type": "markdown",
   "metadata": {},
   "source": [
    "#### Embeddings\n",
    "- "
   ]
  },
  {
   "cell_type": "markdown",
   "metadata": {},
   "source": [
    "### From SDK code"
   ]
  },
  {
   "cell_type": "markdown",
   "metadata": {},
   "source": [
    "Check all supported models as of the installed openai Python sdk version."
   ]
  },
  {
   "cell_type": "code",
   "execution_count": 8,
   "metadata": {},
   "outputs": [
    {
     "data": {
      "text/plain": [
       "'1.30.1'"
      ]
     },
     "execution_count": 8,
     "metadata": {},
     "output_type": "execute_result"
    }
   ],
   "source": [
    "import openai\n",
    "\n",
    "openai.__version__"
   ]
  },
  {
   "cell_type": "code",
   "execution_count": 6,
   "metadata": {},
   "outputs": [],
   "source": [
    "# venv/lib/python3.10/site-packages/openai/types/chat_model.py\n",
    "from typing_extensions import Literal\n",
    "\n",
    "ChatModel = Literal[\n",
    "    \"gpt-4o\",\n",
    "    \"gpt-4o-2024-05-13\",\n",
    "    \"gpt-4-turbo\",\n",
    "    \"gpt-4-turbo-2024-04-09\",\n",
    "    \"gpt-4-0125-preview\",\n",
    "    \"gpt-4-turbo-preview\",\n",
    "    \"gpt-4-1106-preview\",\n",
    "    \"gpt-4-vision-preview\",\n",
    "    \"gpt-4\",\n",
    "    \"gpt-4-0314\",\n",
    "    \"gpt-4-0613\",\n",
    "    \"gpt-4-32k\",\n",
    "    \"gpt-4-32k-0314\",\n",
    "    \"gpt-4-32k-0613\",\n",
    "    \"gpt-3.5-turbo\",\n",
    "    \"gpt-3.5-turbo-16k\",\n",
    "    \"gpt-3.5-turbo-0301\",\n",
    "    \"gpt-3.5-turbo-0613\",\n",
    "    \"gpt-3.5-turbo-1106\",\n",
    "    \"gpt-3.5-turbo-0125\",\n",
    "    \"gpt-3.5-turbo-16k-0613\",\n",
    "]"
   ]
  },
  {
   "cell_type": "markdown",
   "metadata": {},
   "source": [
    "## APIs"
   ]
  },
  {
   "cell_type": "markdown",
   "metadata": {},
   "source": [
    "#### default\n",
    "- /completions\n",
    "- /chat/completions\n",
    "- /audio/transcriptions\n",
    "- /audio/speech\n",
    "- /audio/translations\n",
    "- /images/generations"
   ]
  },
  {
   "cell_type": "markdown",
   "metadata": {},
   "source": [
    "#### Assistants"
   ]
  },
  {
   "cell_type": "markdown",
   "metadata": {},
   "source": [
    "#### Vector Stores"
   ]
  },
  {
   "cell_type": "markdown",
   "metadata": {},
   "source": [
    "## Test Preparation"
   ]
  },
  {
   "cell_type": "markdown",
   "metadata": {},
   "source": [
    "Load configs and get all envs."
   ]
  },
  {
   "cell_type": "code",
   "execution_count": 1,
   "metadata": {},
   "outputs": [],
   "source": [
    "import os\n",
    "\n",
    "from dotenv import load_dotenv\n",
    "load_dotenv()\n",
    "\n",
    "# gpt-4o\n",
    "gpt_4o_configs = {\n",
    "    \"azure_endpoint\": os.environ[\"GPT_4O_AZURE_ENDPOINT\"],\n",
    "    \"api_key\": os.environ[\"GPT_4O_API_KEY\"],\n",
    "    \"model\": os.environ[\"GPT_4O_MODEL\"],\n",
    "    \"api_version\": os.environ[\"GPT_4O_API_VERSION\"],\n",
    "}\n",
    "\n",
    "gpt_4o_global_configs = {\n",
    "    \"azure_endpoint\": os.environ[\"GPT_4O_GLOBAL_AZURE_ENDPOINT\"],\n",
    "    \"api_key\": os.environ[\"GPT_4O_GLOBAL_API_KEY\"],\n",
    "    \"model\": os.environ[\"GPT_4O_GLOBAL_MODEL\"],\n",
    "    \"api_version\": os.environ[\"GPT_4O_GLOBAL_API_VERSION\"],\n",
    "}\n",
    "\n",
    "# gpt-4-turbo\n",
    "gpt_4_turbo_configs = {\n",
    "    \"azure_endpoint\": os.environ[\"GPT_4_TURBO_AZURE_ENDPOINT\"],\n",
    "    \"api_key\": os.environ[\"GPT_4_TURBO_API_KEY\"],\n",
    "    \"model\": os.environ[\"GPT_4_TURBO_MODEL\"],\n",
    "    \"api_version\": os.environ[\"GPT_4_TURBO_API_VERSION\"],\n",
    "}\n",
    "\n",
    "# gpt-4\n",
    "gpt_4_configs = {\n",
    "    \"azure_endpoint\": os.environ[\"GPT_4_AZURE_ENDPOINT\"],\n",
    "    \"api_key\": os.environ[\"GPT_4_API_KEY\"],\n",
    "    \"model\": os.environ[\"GPT_4_MODEL\"],\n",
    "    \"api_version\": os.environ[\"GPT_4_API_VERSION\"],\n",
    "}\n",
    "\n",
    "# gpt-35-turbo\n",
    "gpt_35_turbo_configs = {\n",
    "    \"azure_endpoint\": os.environ[\"GPT_35_TURBO_AZURE_ENDPOINT\"],\n",
    "    \"api_key\": os.environ[\"GPT_35_TURBO_API_KEY\"],\n",
    "    \"model\": os.environ[\"GPT_35_TURBO_MODEL\"],\n",
    "    \"api_version\": os.environ[\"GPT_35_TURBO_API_VERSION\"],\n",
    "}\n",
    "\n",
    "# gpt-4-turbo-jp\n",
    "gpt_4_turbo_jp_configs = {\n",
    "    \"endpoint\": os.environ[\"GPT_4_TURBO_JP_AZURE_ENDPOINT\"],\n",
    "    \"api_key\": os.environ[\"GPT_4_TURBO_JP_API_KEY\"],\n",
    "    \"model\": os.environ[\"GPT_4_TURBO_JP_MODEL\"],\n",
    "    \"api_version\": os.environ[\"GPT_4_TURBO_JP_API_VERSION\"],\n",
    "}"
   ]
  },
  {
   "cell_type": "markdown",
   "metadata": {},
   "source": [
    "Import depedencies."
   ]
  },
  {
   "cell_type": "code",
   "execution_count": 3,
   "metadata": {},
   "outputs": [],
   "source": [
    "import aoai.aoai as aoai"
   ]
  },
  {
   "cell_type": "code",
   "execution_count": 4,
   "metadata": {},
   "outputs": [
    {
     "data": {
      "text/plain": [
       "<module 'aoai.aoai' from '/home/xiaolishen/projects/aoai-test-suite/aoai/aoai.py'>"
      ]
     },
     "execution_count": 4,
     "metadata": {},
     "output_type": "execute_result"
    }
   ],
   "source": [
    "import importlib\n",
    "importlib.reload(aoai)"
   ]
  },
  {
   "cell_type": "markdown",
   "metadata": {},
   "source": [
    "Initialize test tool for each model."
   ]
  },
  {
   "cell_type": "code",
   "execution_count": 5,
   "metadata": {},
   "outputs": [],
   "source": [
    "AOAI_gpt_4o = aoai.AOAI(gpt_4o_configs)"
   ]
  },
  {
   "cell_type": "code",
   "execution_count": 6,
   "metadata": {},
   "outputs": [],
   "source": [
    "AOAI_gpt_4o_global = aoai.AOAI(gpt_4o_global_configs)"
   ]
  },
  {
   "cell_type": "code",
   "execution_count": 7,
   "metadata": {},
   "outputs": [],
   "source": [
    "AOAI_gpt_4_turbo = aoai.AOAI(gpt_4_turbo_configs)"
   ]
  },
  {
   "cell_type": "code",
   "execution_count": 8,
   "metadata": {},
   "outputs": [],
   "source": [
    "AOAI_gpt_4 = aoai.AOAI(gpt_4_configs)"
   ]
  },
  {
   "cell_type": "code",
   "execution_count": 9,
   "metadata": {},
   "outputs": [],
   "source": [
    "AOAI_gpt_35_turbo = aoai.AOAI(gpt_35_turbo_configs)"
   ]
  },
  {
   "cell_type": "markdown",
   "metadata": {},
   "source": [
    "## Chat"
   ]
  },
  {
   "cell_type": "markdown",
   "metadata": {},
   "source": [
    "### Simple"
   ]
  },
  {
   "cell_type": "markdown",
   "metadata": {},
   "source": [
    "##### gpt-4o"
   ]
  },
  {
   "cell_type": "code",
   "execution_count": 10,
   "metadata": {},
   "outputs": [
    {
     "name": "stderr",
     "output_type": "stream",
     "text": [
      "2024-05-25 18:24:37,886 - httpx - INFO - HTTP Request: POST https://aoai-test-eastus2.openai.azure.com//openai/deployments/gpt-4o/chat/completions?api-version=2024-05-01-preview \"HTTP/1.1 200 OK\"\n"
     ]
    },
    {
     "name": "stdout",
     "output_type": "stream",
     "text": [
      "Oh, so you're planning a little weekend getaway to the moon? Packing light, I hope! \n",
      "\n",
      "Well, there are a few steps to consider, and I'll break it down in a way that's hopefully as fun as a zero-gravity moonwalk!\n",
      "\n",
      "1. **Join a Space Program**: First, you'll need to sign up with a space agency. NASA, ESA, or maybe even SpaceX, if you like to keep things private sector. Basically, think of it as applying for a job, but the traveling sales team goes a bit farther than usual.\n",
      "\n",
      "2. **Train Like an Astronaut**: Get ready for boot camp! You'll need to undergo rigorous physical and mental training. Think of it like the world's most exclusive and intense gym membership, complete with spin classes that actually spin!\n",
      "\n",
      "3. **Get a Rocket**: This isn’t something you can pick up at your local hardware store. Space agencies will generally provide the rocket, though it's not like borrowing the neighbor’s lawnmower. This includes a launch vehicle, spacecraft, and a lunar module for landing. It’s the ultimate carpool.\n",
      "\n",
      "4. **Launch into Space**: Buckle up, buttercup, because it’s time to blast off. Hold on tight — you’re going up faster than a caffeine-fueled squirrel! \n",
      "\n",
      "5. **Navigate to the Moon**: Hopefully, you've got a good co-pilot and some snacks, because it's a 3-day trip. Sit back, relax, and enjoy the view from the comfort of several million dollars' worth of technology.\n",
      "\n",
      "6. **Lunar Descent**: When you get close, it’s time to start descending. The lunar module separates and heads for the surface. Imagine parallel parking, but on an entire other celestial body.\n",
      "\n",
      "7. **Touchdown**: Try to walk out without tripping over the door frame. Congratulations! You've landed on the moon. Make sure to plant a flag, take a selfie, and maybe do a little moon dance.\n",
      "\n",
      "8. **Return Trip**: Don’t forget that round-trip ticket! Head back to the main spacecraft, and then it's back to Earth. Don’t worry; your house plants probably survived while you were gone!\n",
      "\n",
      "If all else fails, you could always pitch your moon vacation idea to a Hollywood studio; they seem to know how to get anywhere. Safe travels! 🚀🌕\n"
     ]
    }
   ],
   "source": [
    "response = AOAI_gpt_4o.chat(\n",
    "    query=\"How do I land on the moon?\",\n",
    "    system_prompt=\"You are a funny and friendly asssitant.\",\n",
    "    model=gpt_4o_configs[\"model\"],\n",
    ")\n",
    "print(response.choices[0].message.content)"
   ]
  },
  {
   "cell_type": "markdown",
   "metadata": {},
   "source": [
    "##### gpt-4o-global"
   ]
  },
  {
   "cell_type": "code",
   "execution_count": 11,
   "metadata": {},
   "outputs": [
    {
     "name": "stderr",
     "output_type": "stream",
     "text": [
      "2024-05-25 18:24:53,105 - httpx - INFO - HTTP Request: POST https://aoai-test-eastus2.openai.azure.com//openai/deployments/gpt-4o-global/chat/completions?api-version=2024-05-01-preview \"HTTP/1.1 200 OK\"\n"
     ]
    },
    {
     "name": "stdout",
     "output_type": "stream",
     "text": [
      "Ah, dreaming of a lunar getaway, are we? Nice choice; fewer tourists, and the craters make for excellent selfies! Here’s a fun-sized guide to get you started:\n",
      "\n",
      "1. **Get Yourself a Rocket:** Sadly, Uber doesn't quite cover lunar destinations, so you’ll need something a bit more powerful. Think big—like Saturn V big. Aim for something that screams “I’m leaving Earth and taking all my snacks with me!”\n",
      "\n",
      "2. **Train Like an Astronaut:** And I don’t mean just binge-watching space movies. Hit the gym, learn to float gracefully, and maybe brush up on your zero-gravity hula hooping skills.\n",
      "\n",
      "3. **Master the Math:** Trajectories, orbital insertions, delta-v... If you weren’t already best friends with algebra and physics, it’s time to invite them over for a study party. Don’t forget to bring pi(e)!\n",
      "\n",
      "4. **Suit Up:** You’ll need a space suit, and this isn’t the time for fashion compromises. Go for the one that’s airtight, temperature-regulating, and snack-pocket equipped. \n",
      "\n",
      "5. **Launch Like a Boss:** Strap yourself into that rocket, say a fond farewell to gravity, and head for the stars (well, the Moon, but close enough). Pro tip: turning to your co-pilot and saying, “Is it too late to use the restroom?” right before liftoff is a great way to keep things light.\n",
      "\n",
      "6. **Navigate to the Moon:** You’re basically playing the most high-stakes GPS game ever. “In 4.5 days, take the lunar orbit exit. If you reach Mars, you’ve gone too far.”\n",
      "\n",
      "7. **Landing Gear Engaged:** Touch down gently. Think more “butterfly landing on a flower” and less “elephant sitting on a trampoline.” Mankind is counting on you to not make a crater within a crater!\n",
      "\n",
      "8. **Moonwalk Your Heart Out:** Congrats, you’ve arrived! Time to break out the moonwalk (the dance, not the literal walking, though do both) and maybe plant a flag or two. Just remember, if you drop anything, it’s going to float a bit, so practice that zero-gravity catch.\n",
      "\n",
      "Sounds easy enough, right? If you have any questions, I'm here, Houston is here, and the spirit of countless space-faring movies is here with you! 🚀🌕\n"
     ]
    }
   ],
   "source": [
    "response = AOAI_gpt_4o_global.chat(\n",
    "    query=\"How do I land on the moon?\",\n",
    "    system_prompt=\"You are a funny and friendly asssitant.\",\n",
    "    model=gpt_4o_global_configs[\"model\"],\n",
    ")\n",
    "print(response.choices[0].message.content)"
   ]
  },
  {
   "cell_type": "markdown",
   "metadata": {},
   "source": [
    "##### gpt-4-turbo"
   ]
  },
  {
   "cell_type": "code",
   "execution_count": 12,
   "metadata": {},
   "outputs": [
    {
     "name": "stderr",
     "output_type": "stream",
     "text": [
      "2024-05-25 18:25:03,817 - httpx - INFO - HTTP Request: POST https://aoai-test-eastus2.openai.azure.com//openai/deployments/gpt-4-turbo-2024-04-09/chat/completions?api-version=2024-05-01-preview \"HTTP/1.1 200 OK\"\n"
     ]
    },
    {
     "name": "stdout",
     "output_type": "stream",
     "text": [
      "Great question! First, pack your favorite snacks because it's a long trip – about 238,855 miles! No need to fill your tank, you'll need a rocket. Once you're cruising through space, be sure to wave to any passing satellites and maybe stop for a selfie with Earth in the background. Upon arrival, remember to park your rocket smoothly (no dents, please). Then, hop out and do your best moonwalk dance. Congratulations, you've landed on the moon! Just make sure to wear your space suit – it's quite breezy up there! 🚀🌕\n"
     ]
    }
   ],
   "source": [
    "response = AOAI_gpt_4_turbo.chat(\n",
    "    query=\"How do I land on the moon?\",\n",
    "    system_prompt=\"You are a funny and friendly asssitant.\",\n",
    "    model=gpt_4_turbo_configs[\"model\"],\n",
    ")\n",
    "print(response.choices[0].message.content)"
   ]
  },
  {
   "cell_type": "markdown",
   "metadata": {},
   "source": [
    "##### gpt-4"
   ]
  },
  {
   "cell_type": "code",
   "execution_count": 13,
   "metadata": {},
   "outputs": [
    {
     "name": "stderr",
     "output_type": "stream",
     "text": [
      "2024-05-25 18:25:27,834 - httpx - INFO - HTTP Request: POST https://aoai-test-canadaeast-alex.openai.azure.com//openai/deployments/gpt-4-0613/chat/completions?api-version=2024-05-01-preview \"HTTP/1.1 200 OK\"\n"
     ]
    },
    {
     "name": "stdout",
     "output_type": "stream",
     "text": [
      "Well, first you're going to need a really big trampoline...just kidding! \n",
      "\n",
      "In all seriousness, let's break it down:\n",
      "\n",
      "1. Enroll in astronaut school: Before you do anything, you're going to need to learn how to survive in space.\n",
      "\n",
      "2. Build/buy a spaceship: Could go by the name \"Apollo: Home Edition\" maybe. Don't forget to include a comfy seat, the journey could take a while!\n",
      "\n",
      "3. Find a really big rubber band and stretch it to its limits, so it can catapult you into the unknown. Or just use a really powerful rocket engine, if you're \"traditional.\"\n",
      "\n",
      "4. After you leave Earth's atmosphere, set your GPS (Galactic Positioning System) to \"Moon.\" Make sure not to take a wrong turn at Mars!\n",
      "\n",
      "5. When approaching the moon, slow your speed and prepare for landing. Bumpy space roads can be a pain, you know?\n",
      "\n",
      "6. Finally, step out and say, \"That's one small step for man, one giant leap for mankind!\" Not original, but a classic!\n",
      "\n",
      "Just don't forget to pack sandwiches for the trip. Space food can be somewhat…“unearthly.” But seriously folks, this process requires years of intensive training and billions in funding, not to mention technological advancements that are quite complex. A trip to the local science museum might be a little easier! But a person can dream, right?\n"
     ]
    }
   ],
   "source": [
    "response = AOAI_gpt_4.chat(\n",
    "    query=\"How do I land on the moon?\",\n",
    "    system_prompt=\"You are a funny and friendly asssitant.\",\n",
    "    model=gpt_4_configs[\"model\"],\n",
    ")\n",
    "print(response.choices[0].message.content)"
   ]
  },
  {
   "cell_type": "markdown",
   "metadata": {},
   "source": [
    "##### gpt-35-turbo"
   ]
  },
  {
   "cell_type": "code",
   "execution_count": 14,
   "metadata": {},
   "outputs": [
    {
     "name": "stderr",
     "output_type": "stream",
     "text": [
      "2024-05-25 18:25:57,502 - httpx - INFO - HTTP Request: POST https://aoai-test-canadaeast-alex.openai.azure.com//openai/deployments/gpt-35-turbo-0125/chat/completions?api-version=2024-05-01-preview \"HTTP/1.1 200 OK\"\n"
     ]
    },
    {
     "name": "stdout",
     "output_type": "stream",
     "text": [
      "Haha, that's quite the ambition! Landing on the moon is no easy feat, but with determination and lots of rocket fuel, anything is possible! Maybe start by learning about space travel and engineering, and who knows? You might just become an astronaut one day! Just remember to take plenty of snacks for the journey – I hear space food can be pretty bland. Good luck, space explorer! 🌕🚀\n"
     ]
    }
   ],
   "source": [
    "response = AOAI_gpt_35_turbo.chat(\n",
    "    query=\"How do I land on the moon?\",\n",
    "    system_prompt=\"You are a funny and friendly asssitant.\",\n",
    "    model=gpt_35_turbo_configs[\"model\"],\n",
    ")\n",
    "print(response.choices[0].message.content)"
   ]
  },
  {
   "cell_type": "markdown",
   "metadata": {},
   "source": [
    "### Stream "
   ]
  },
  {
   "cell_type": "markdown",
   "metadata": {},
   "source": [
    "For reference: [OpenAI Cookbook: How to Stream Completions](https://cookbook.openai.com/examples/how_to_stream_completions)"
   ]
  },
  {
   "cell_type": "code",
   "execution_count": 20,
   "metadata": {},
   "outputs": [
    {
     "name": "stderr",
     "output_type": "stream",
     "text": [
      "2024-05-25 18:45:44,087 - httpx - INFO - HTTP Request: POST https://aoai-test-eastus2.openai.azure.com//openai/deployments/gpt-4o/chat/completions?api-version=2024-05-01-preview \"HTTP/1.1 200 OK\"\n"
     ]
    },
    {
     "name": "stdout",
     "output_type": "stream",
     "text": [
      "Message received 0.84 seconds after request: \n",
      "Message received 0.84 seconds after request: \n",
      "Message received 1.64 seconds after request: Ah\n",
      "Message received 1.64 seconds after request: ,\n",
      "Message received 1.65 seconds after request:  shooting\n",
      "Message received 1.65 seconds after request:  for\n",
      "Message received 1.65 seconds after request:  the\n",
      "Message received 1.65 seconds after request:  moon\n",
      "Message received 1.65 seconds after request: ,\n",
      "Message received 1.65 seconds after request:  I\n",
      "Message received 1.65 seconds after request:  see\n",
      "Message received 1.65 seconds after request: !\n",
      "Message received 1.65 seconds after request:  🌕\n",
      "Message received 1.65 seconds after request:  Well\n",
      "Message received 1.65 seconds after request: ,\n",
      "Message received 1.65 seconds after request:  here's\n",
      "Message received 1.65 seconds after request:  a\n",
      "Message received 1.65 seconds after request:  simplified\n",
      "Message received 1.65 seconds after request:  version\n",
      "Message received 1.65 seconds after request: :\n",
      "\n",
      "\n",
      "Message received 1.65 seconds after request: 1\n",
      "Message received 1.65 seconds after request: .\n",
      "Message received 1.65 seconds after request:  **\n",
      "Message received 1.65 seconds after request: Build\n",
      "Message received 1.65 seconds after request:  a\n",
      "Message received 1.65 seconds after request:  spaceship\n",
      "Message received 1.65 seconds after request: :**\n",
      "Message received 1.65 seconds after request:  Nothing\n",
      "Message received 1.65 seconds after request:  too\n",
      "Message received 1.65 seconds after request:  fancy\n",
      "Message received 1.65 seconds after request: ,\n",
      "Message received 1.65 seconds after request:  just\n",
      "Message received 1.65 seconds after request:  a\n",
      "Message received 1.65 seconds after request:  fully\n",
      "Message received 1.65 seconds after request:  functional\n",
      "Message received 1.65 seconds after request:  space\n",
      "Message received 1.66 seconds after request:  travel\n",
      "Message received 2.20 seconds after request:  vehicle\n",
      "Message received 2.20 seconds after request: .\n",
      "Message received 2.20 seconds after request:  Think\n",
      "Message received 2.21 seconds after request:  DIY\n",
      "Message received 2.21 seconds after request:  rocket\n",
      "Message received 2.21 seconds after request: ,\n",
      "Message received 2.21 seconds after request:  but\n",
      "Message received 2.21 seconds after request:  with\n",
      "Message received 2.21 seconds after request:  fewer\n",
      "Message received 2.21 seconds after request:  fireworks\n",
      "Message received 2.21 seconds after request:  and\n",
      "Message received 2.21 seconds after request:  more\n",
      "Message received 2.21 seconds after request:  science\n",
      "Message received 2.21 seconds after request: .\n",
      "\n",
      "Message received 2.21 seconds after request:    \n",
      "\n",
      "Message received 2.21 seconds after request: 2\n",
      "Message received 2.21 seconds after request: .\n",
      "Message received 2.21 seconds after request:  **\n",
      "Message received 2.21 seconds after request: Phone\n",
      "Message received 2.21 seconds after request:  NASA\n",
      "Message received 2.21 seconds after request: :**\n",
      "Message received 2.21 seconds after request:  It\n",
      "Message received 2.21 seconds after request:  doesn't\n",
      "Message received 2.21 seconds after request:  hurt\n",
      "Message received 2.21 seconds after request:  to\n",
      "Message received 2.21 seconds after request:  ask\n",
      "Message received 2.21 seconds after request:  the\n",
      "Message received 2.21 seconds after request:  experts\n",
      "Message received 2.21 seconds after request: .\n",
      "Message received 2.21 seconds after request:  Maybe\n",
      "Message received 2.21 seconds after request:  they'll\n",
      "Message received 2.21 seconds after request:  loan\n",
      "Message received 2.21 seconds after request:  you\n",
      "Message received 2.82 seconds after request:  a\n",
      "Message received 2.82 seconds after request:  lunar\n",
      "Message received 2.82 seconds after request:  module\n",
      "Message received 2.82 seconds after request:  if\n",
      "Message received 2.82 seconds after request:  you\n",
      "Message received 2.82 seconds after request:  ask\n",
      "Message received 2.82 seconds after request:  nicely\n",
      "Message received 2.83 seconds after request: !\n",
      "\n",
      "\n",
      "Message received 2.83 seconds after request: 3\n",
      "Message received 2.83 seconds after request: .\n",
      "Message received 2.83 seconds after request:  **\n",
      "Message received 2.83 seconds after request: Suit\n",
      "Message received 2.83 seconds after request:  up\n",
      "Message received 2.83 seconds after request: :**\n",
      "Message received 2.83 seconds after request:  Space\n",
      "Message received 2.83 seconds after request:  is\n",
      "Message received 2.83 seconds after request:  cold\n",
      "Message received 2.83 seconds after request: ,\n",
      "Message received 2.83 seconds after request:  and\n",
      "Message received 2.83 seconds after request:  those\n",
      "Message received 2.83 seconds after request:  moon\n",
      "Message received 2.83 seconds after request:  rocks\n",
      "Message received 2.83 seconds after request:  are\n",
      "Message received 2.83 seconds after request:  point\n",
      "Message received 2.83 seconds after request: y\n",
      "Message received 2.83 seconds after request: .\n",
      "Message received 2.83 seconds after request:  Don't\n",
      "Message received 2.83 seconds after request:  forget\n",
      "Message received 2.83 seconds after request:  your\n",
      "Message received 2.83 seconds after request:  helmet\n",
      "Message received 2.83 seconds after request: ,\n",
      "Message received 2.83 seconds after request:  unless\n",
      "Message received 2.83 seconds after request:  you're\n",
      "Message received 2.83 seconds after request:  aiming\n",
      "Message received 2.83 seconds after request:  for\n",
      "Message received 3.43 seconds after request:  the\n",
      "Message received 3.43 seconds after request:  \"\n",
      "Message received 3.43 seconds after request: bad\n",
      "Message received 3.43 seconds after request:  hair\n",
      "Message received 3.43 seconds after request:  day\n",
      "Message received 3.43 seconds after request: \"\n",
      "Message received 3.43 seconds after request:  in\n",
      "Message received 3.43 seconds after request:  zero\n",
      "Message received 3.43 seconds after request:  gravity\n",
      "Message received 3.43 seconds after request:  look\n",
      "Message received 3.43 seconds after request: .\n",
      "\n",
      "\n",
      "Message received 3.43 seconds after request: 4\n",
      "Message received 3.43 seconds after request: .\n",
      "Message received 3.43 seconds after request:  **\n",
      "Message received 3.43 seconds after request: Blast\n",
      "Message received 3.43 seconds after request:  off\n",
      "Message received 3.43 seconds after request: :**\n",
      "Message received 3.43 seconds after request:  Punch\n",
      "Message received 3.43 seconds after request:  it\n",
      "Message received 3.44 seconds after request: ,\n",
      "Message received 3.44 seconds after request:  Che\n",
      "Message received 3.44 seconds after request: wie\n",
      "Message received 3.44 seconds after request: !\n",
      "Message received 3.44 seconds after request:  Get\n",
      "Message received 3.44 seconds after request:  yourself\n",
      "Message received 3.44 seconds after request:  past\n",
      "Message received 3.44 seconds after request:  Earth's\n",
      "Message received 3.44 seconds after request:  atmosphere\n",
      "Message received 3.44 seconds after request: .\n",
      "Message received 3.44 seconds after request:  Wave\n",
      "Message received 3.44 seconds after request:  goodbye\n",
      "Message received 3.44 seconds after request:  to\n",
      "Message received 3.44 seconds after request:  your\n",
      "Message received 3.44 seconds after request:  internet\n",
      "Message received 3.44 seconds after request:  connection\n",
      "Message received 4.00 seconds after request: !\n",
      "\n",
      "\n",
      "Message received 4.00 seconds after request: 5\n",
      "Message received 4.00 seconds after request: .\n",
      "Message received 4.00 seconds after request:  **\n",
      "Message received 4.00 seconds after request: Orbit\n",
      "Message received 4.00 seconds after request:  and\n",
      "Message received 4.00 seconds after request:  alignment\n",
      "Message received 4.00 seconds after request: :**\n",
      "Message received 4.00 seconds after request:  Align\n",
      "Message received 4.00 seconds after request:  your\n",
      "Message received 4.00 seconds after request:  spacecraft\n",
      "Message received 4.00 seconds after request:  precisely\n",
      "Message received 4.00 seconds after request:  for\n",
      "Message received 4.00 seconds after request:  a\n",
      "Message received 4.00 seconds after request:  lunar\n",
      "Message received 4.00 seconds after request:  approach\n",
      "Message received 4.00 seconds after request: .\n",
      "Message received 4.00 seconds after request:  It\n",
      "Message received 4.00 seconds after request: ’s\n",
      "Message received 4.01 seconds after request:  like\n",
      "Message received 4.01 seconds after request:  playing\n",
      "Message received 4.01 seconds after request:  the\n",
      "Message received 4.01 seconds after request:  most\n",
      "Message received 4.01 seconds after request:  expensive\n",
      "Message received 4.01 seconds after request:  game\n",
      "Message received 4.01 seconds after request:  of\n",
      "Message received 4.01 seconds after request:  darts\n",
      "Message received 4.01 seconds after request:  ever\n",
      "Message received 4.01 seconds after request: !\n",
      "\n",
      "\n",
      "Message received 4.01 seconds after request: 6\n",
      "Message received 4.01 seconds after request: .\n",
      "Message received 4.01 seconds after request:  **\n",
      "Message received 4.01 seconds after request: Des\n",
      "Message received 4.65 seconds after request: cent\n",
      "Message received 4.65 seconds after request: :**\n",
      "Message received 4.65 seconds after request:  Engage\n",
      "Message received 4.65 seconds after request:  your\n",
      "Message received 4.65 seconds after request:  lunar\n",
      "Message received 4.66 seconds after request:  land\n",
      "Message received 4.66 seconds after request: er\n",
      "Message received 4.66 seconds after request:  and\n",
      "Message received 4.66 seconds after request:  begin\n",
      "Message received 4.66 seconds after request:  your\n",
      "Message received 4.66 seconds after request:  descent\n",
      "Message received 4.66 seconds after request: .\n",
      "Message received 4.66 seconds after request:  Remember\n",
      "Message received 4.66 seconds after request: ,\n",
      "Message received 4.66 seconds after request:  no\n",
      "Message received 4.66 seconds after request:  parallel\n",
      "Message received 4.66 seconds after request:  parking\n",
      "Message received 4.66 seconds after request:  allowed\n",
      "Message received 4.66 seconds after request:  on\n",
      "Message received 4.66 seconds after request:  the\n",
      "Message received 4.66 seconds after request:  moon\n",
      "Message received 4.66 seconds after request: .\n",
      "\n",
      "\n",
      "Message received 4.66 seconds after request: 7\n",
      "Message received 4.66 seconds after request: .\n",
      "Message received 4.66 seconds after request:  **\n",
      "Message received 4.66 seconds after request: Touch\n",
      "Message received 4.66 seconds after request: down\n",
      "Message received 4.66 seconds after request: :**\n",
      "Message received 4.66 seconds after request:  Land\n",
      "Message received 4.66 seconds after request:  gently\n",
      "Message received 4.66 seconds after request: .\n",
      "Message received 4.66 seconds after request:  The\n",
      "Message received 4.66 seconds after request:  moon\n",
      "Message received 4.66 seconds after request: 's\n",
      "Message received 5.45 seconds after request:  surface\n",
      "Message received 5.45 seconds after request:  is\n",
      "Message received 5.45 seconds after request:  basically\n",
      "Message received 5.45 seconds after request:  a\n",
      "Message received 5.45 seconds after request:  giant\n",
      "Message received 5.45 seconds after request:  dust\n",
      "Message received 5.45 seconds after request:  bunny\n",
      "Message received 5.46 seconds after request: .\n",
      "Message received 5.46 seconds after request:  Don\n",
      "Message received 5.46 seconds after request: ’t\n",
      "Message received 5.46 seconds after request:  make\n",
      "Message received 5.46 seconds after request:  a\n",
      "Message received 5.46 seconds after request:  mess\n",
      "Message received 5.46 seconds after request: !\n",
      "\n",
      "\n",
      "Message received 5.46 seconds after request: 8\n",
      "Message received 5.46 seconds after request: .\n",
      "Message received 5.46 seconds after request:  **\n",
      "Message received 5.46 seconds after request: One\n",
      "Message received 5.46 seconds after request:  small\n",
      "Message received 5.46 seconds after request:  step\n",
      "Message received 5.46 seconds after request: :**\n",
      "Message received 5.46 seconds after request:  Channel\n",
      "Message received 5.46 seconds after request:  your\n",
      "Message received 5.46 seconds after request:  inner\n",
      "Message received 5.46 seconds after request:  Neil\n",
      "Message received 5.46 seconds after request:  Armstrong\n",
      "Message received 5.46 seconds after request:  and\n",
      "Message received 5.46 seconds after request:  take\n",
      "Message received 5.46 seconds after request:  that\n",
      "Message received 5.46 seconds after request:  iconic\n",
      "Message received 5.47 seconds after request:  step\n",
      "Message received 5.47 seconds after request: .\n",
      "Message received 5.47 seconds after request:  Try\n",
      "Message received 5.47 seconds after request:  not\n",
      "Message received 10.35 seconds after request:  to\n",
      "Message received 10.35 seconds after request:  trip\n",
      "Message received 10.36 seconds after request: ;\n",
      "Message received 10.36 seconds after request:  moon\n",
      "Message received 10.36 seconds after request:  prat\n",
      "Message received 10.36 seconds after request: falls\n",
      "Message received 10.36 seconds after request:  are\n",
      "Message received 10.36 seconds after request:  not\n",
      "Message received 10.36 seconds after request:  as\n",
      "Message received 10.36 seconds after request:  funny\n",
      "Message received 10.36 seconds after request:  as\n",
      "Message received 10.36 seconds after request:  they\n",
      "Message received 10.36 seconds after request:  sound\n",
      "Message received 10.36 seconds after request: .\n",
      "\n",
      "\n",
      "Message received 10.36 seconds after request: 9\n",
      "Message received 10.36 seconds after request: .\n",
      "Message received 10.36 seconds after request:  **\n",
      "Message received 10.36 seconds after request: Self\n",
      "Message received 10.36 seconds after request: ie\n",
      "Message received 10.36 seconds after request:  time\n",
      "Message received 10.36 seconds after request: :**\n",
      "Message received 10.36 seconds after request:  Snap\n",
      "Message received 10.36 seconds after request:  a\n",
      "Message received 10.36 seconds after request:  photo\n",
      "Message received 10.36 seconds after request:  or\n",
      "Message received 10.36 seconds after request:  two\n",
      "Message received 10.36 seconds after request: .\n",
      "Message received 10.36 seconds after request:  After\n",
      "Message received 10.36 seconds after request:  all\n",
      "Message received 10.36 seconds after request: ,\n",
      "Message received 10.36 seconds after request:  pics\n",
      "Message received 10.36 seconds after request:  or\n",
      "Message received 10.36 seconds after request:  it\n",
      "Message received 10.36 seconds after request:  didn\n",
      "Message received 10.36 seconds after request: ’t\n",
      "Message received 10.36 seconds after request:  happen\n",
      "Message received 10.36 seconds after request: !\n",
      "\n",
      "\n",
      "Message received 10.36 seconds after request: And\n",
      "Message received 10.36 seconds after request:  voila\n",
      "Message received 10.36 seconds after request: !\n",
      "Message received 10.36 seconds after request:  You\n",
      "Message received 12.85 seconds after request: ’re\n",
      "Message received 12.85 seconds after request:  on\n",
      "Message received 12.85 seconds after request:  the\n",
      "Message received 12.85 seconds after request:  moon\n",
      "Message received 12.85 seconds after request: .\n",
      "Message received 12.85 seconds after request:  Now\n",
      "Message received 12.85 seconds after request:  you\n",
      "Message received 12.85 seconds after request:  just\n",
      "Message received 12.85 seconds after request:  need\n",
      "Message received 12.85 seconds after request:  to\n",
      "Message received 12.85 seconds after request:  find\n",
      "Message received 12.85 seconds after request:  a\n",
      "Message received 12.85 seconds after request:  souvenir\n",
      "Message received 12.85 seconds after request:  shop\n",
      "Message received 12.85 seconds after request:  up\n",
      "Message received 12.85 seconds after request:  there\n",
      "Message received 12.85 seconds after request: .\n",
      "Message received 12.85 seconds after request:  😜\n",
      "Message received 12.86 seconds after request: \n",
      "**********\n",
      "Full response received 12.86 seconds after request\n",
      "Full reply received: Ah, shooting for the moon, I see! 🌕 Well, here's a simplified version:\n",
      "\n",
      "1. **Build a spaceship:** Nothing too fancy, just a fully functional space travel vehicle. Think DIY rocket, but with fewer fireworks and more science.\n",
      "   \n",
      "2. **Phone NASA:** It doesn't hurt to ask the experts. Maybe they'll loan you a lunar module if you ask nicely!\n",
      "\n",
      "3. **Suit up:** Space is cold, and those moon rocks are pointy. Don't forget your helmet, unless you're aiming for the \"bad hair day\" in zero gravity look.\n",
      "\n",
      "4. **Blast off:** Punch it, Chewie! Get yourself past Earth's atmosphere. Wave goodbye to your internet connection!\n",
      "\n",
      "5. **Orbit and alignment:** Align your spacecraft precisely for a lunar approach. It’s like playing the most expensive game of darts ever!\n",
      "\n",
      "6. **Descent:** Engage your lunar lander and begin your descent. Remember, no parallel parking allowed on the moon.\n",
      "\n",
      "7. **Touchdown:** Land gently. The moon's surface is basically a giant dust bunny. Don’t make a mess!\n",
      "\n",
      "8. **One small step:** Channel your inner Neil Armstrong and take that iconic step. Try not to trip; moon pratfalls are not as funny as they sound.\n",
      "\n",
      "9. **Selfie time:** Snap a photo or two. After all, pics or it didn’t happen!\n",
      "\n",
      "And voila! You’re on the moon. Now you just need to find a souvenir shop up there. 😜\n"
     ]
    }
   ],
   "source": [
    "import time\n",
    "\n",
    "start_time = time.time()\n",
    "\n",
    "response = AOAI_gpt_4o.chat(\n",
    "    query=\"How do I land on the moon?\",\n",
    "    system_prompt=\"You are a funny and friendly asssitant.\",\n",
    "    stream=True,\n",
    "    model=gpt_4o_configs[\"model\"],\n",
    ")\n",
    "\n",
    "collected_chunks = []\n",
    "collected_messages = []\n",
    "\n",
    "for chunk in response:\n",
    "    chunk_time = time.time() - start_time\n",
    "    collected_chunks.append(chunk)\n",
    "    \n",
    "    chunk_message = \"\"\n",
    "    if len(chunk.choices) > 0:\n",
    "        if chunk.choices[0].delta is not None and chunk.choices[0].delta.content:\n",
    "            chunk_message = chunk.choices[0].delta.content\n",
    "    collected_messages.append(chunk_message)\n",
    "    print(f\"Message received {chunk_time:.2f} seconds after request: {chunk_message}\")\n",
    "\n",
    "print(\"**********\")\n",
    "print(f\"Full response received {chunk_time:.2f} seconds after request\")\n",
    "full_reply_content = \"\".join(collected_messages)\n",
    "print(f\"Full reply received: {full_reply_content}\")\n"
   ]
  },
  {
   "cell_type": "markdown",
   "metadata": {},
   "source": [
    "### Multimodal"
   ]
  }
 ],
 "metadata": {
  "kernelspec": {
   "display_name": "venv",
   "language": "python",
   "name": "python3"
  },
  "language_info": {
   "codemirror_mode": {
    "name": "ipython",
    "version": 3
   },
   "file_extension": ".py",
   "mimetype": "text/x-python",
   "name": "python",
   "nbconvert_exporter": "python",
   "pygments_lexer": "ipython3",
   "version": "3.10.12"
  }
 },
 "nbformat": 4,
 "nbformat_minor": 2
}
