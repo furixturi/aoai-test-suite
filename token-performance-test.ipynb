{
 "cells": [
  {
   "cell_type": "markdown",
   "metadata": {},
   "source": [
    "# Test Token Performance of Different Models"
   ]
  },
  {
   "cell_type": "markdown",
   "metadata": {},
   "source": [
    "## Test Preparation"
   ]
  },
  {
   "cell_type": "code",
   "execution_count": 13,
   "metadata": {},
   "outputs": [
    {
     "data": {
      "text/plain": [
       "True"
      ]
     },
     "execution_count": 13,
     "metadata": {},
     "output_type": "execute_result"
    }
   ],
   "source": [
    "import os\n",
    "from dotenv import load_dotenv\n",
    "load_dotenv()"
   ]
  },
  {
   "cell_type": "code",
   "execution_count": 15,
   "metadata": {},
   "outputs": [],
   "source": [
    "gpt_4o_configs = {\n",
    "    \"azure_endpoint\": os.environ[\"GPT_4O_AZURE_ENDPOINT\"],\n",
    "    \"api_key\": os.environ[\"GPT_4O_API_KEY\"],\n",
    "    \"model\": os.environ[\"GPT_4O_MODEL\"],\n",
    "    \"api_version\": os.environ[\"GPT_4O_API_VERSION\"],\n",
    "    \"default_model\": os.environ[\"GPT_4O_MODEL\"],\n",
    "}"
   ]
  },
  {
   "cell_type": "code",
   "execution_count": 16,
   "metadata": {},
   "outputs": [],
   "source": [
    "gpt_4_turbo_configs = {\n",
    "    \"azure_endpoint\": os.environ[\"GPT_4_TURBO_AZURE_ENDPOINT\"],\n",
    "    \"api_key\": os.environ[\"GPT_4_TURBO_API_KEY\"],\n",
    "    \"model\": os.environ[\"GPT_4_TURBO_MODEL\"],\n",
    "    \"api_version\": os.environ[\"GPT_4_TURBO_API_VERSION\"],\n",
    "    \"default_model\": os.environ[\"GPT_4_TURBO_MODEL\"],\n",
    "}"
   ]
  },
  {
   "cell_type": "code",
   "execution_count": 17,
   "metadata": {},
   "outputs": [],
   "source": [
    "gpt_4_configs = {\n",
    "    \"azure_endpoint\": os.environ[\"GPT_4_AZURE_ENDPOINT\"],\n",
    "    \"api_key\": os.environ[\"GPT_4_API_KEY\"],\n",
    "    \"model\": os.environ[\"GPT_4_MODEL\"],\n",
    "    \"api_version\": os.environ[\"GPT_4_API_VERSION\"],\n",
    "    \"default_model\": os.environ[\"GPT_4_MODEL\"],\n",
    "}"
   ]
  },
  {
   "cell_type": "code",
   "execution_count": 18,
   "metadata": {},
   "outputs": [],
   "source": [
    "# gpt-35-turbo\n",
    "gpt_35_turbo_configs = {\n",
    "    \"azure_endpoint\": os.environ[\"GPT_35_TURBO_AZURE_ENDPOINT\"],\n",
    "    \"api_key\": os.environ[\"GPT_35_TURBO_API_KEY\"],\n",
    "    \"model\": os.environ[\"GPT_35_TURBO_MODEL\"],\n",
    "    \"api_version\": os.environ[\"GPT_35_TURBO_API_VERSION\"],\n",
    "    \"default_model\": os.environ[\"GPT_35_TURBO_MODEL\"],\n",
    "}"
   ]
  },
  {
   "cell_type": "code",
   "execution_count": 19,
   "metadata": {},
   "outputs": [],
   "source": [
    "import aoai.aoai as aoai"
   ]
  },
  {
   "cell_type": "code",
   "execution_count": 20,
   "metadata": {},
   "outputs": [],
   "source": [
    "AOAI_gpt_4o = aoai.AOAI(gpt_4o_configs)"
   ]
  },
  {
   "cell_type": "code",
   "execution_count": 21,
   "metadata": {},
   "outputs": [],
   "source": [
    "AOAI_gpt_4_turbo = aoai.AOAI(gpt_4_turbo_configs)"
   ]
  },
  {
   "cell_type": "code",
   "execution_count": 22,
   "metadata": {},
   "outputs": [],
   "source": [
    "AOAI_gpt_4 = aoai.AOAI(gpt_4_configs)"
   ]
  },
  {
   "cell_type": "code",
   "execution_count": 23,
   "metadata": {},
   "outputs": [],
   "source": [
    "AOAI_gpt_35_turbo = aoai.AOAI(gpt_35_turbo_configs)"
   ]
  },
  {
   "cell_type": "markdown",
   "metadata": {},
   "source": [
    "## Use Response usage Field"
   ]
  },
  {
   "cell_type": "code",
   "execution_count": 26,
   "metadata": {},
   "outputs": [
    {
     "name": "stderr",
     "output_type": "stream",
     "text": [
      "2024-05-26 11:55:07,238 - httpx - INFO - HTTP Request: POST https://aoai-test-eastus2.openai.azure.com/openai/deployments/gpt-4o/chat/completions?api-version=2024-05-01-preview \"HTTP/1.1 200 OK\"\n"
     ]
    },
    {
     "data": {
      "text/plain": [
       "ChatCompletion(id='chatcmpl-9SyKIHGTzHHIWPgBSOjPWTUyPoAGv', choices=[Choice(finish_reason='stop', index=0, logprobs=None, message=ChatCompletionMessage(content=\"Hello! I'm just a computer program, so I don't have feelings, but I'm here and ready to help you. How can I assist you today?\", role='assistant', function_call=None, tool_calls=None), content_filter_results={'hate': {'filtered': False, 'severity': 'safe'}, 'self_harm': {'filtered': False, 'severity': 'safe'}, 'sexual': {'filtered': False, 'severity': 'safe'}, 'violence': {'filtered': False, 'severity': 'safe'}})], created=1716692106, model='gpt-4o-2024-05-13', object='chat.completion', system_fingerprint='fp_5f4bad809a', usage=CompletionUsage(completion_tokens=30, prompt_tokens=22, total_tokens=52), prompt_filter_results=[{'prompt_index': 0, 'content_filter_results': {'hate': {'filtered': False, 'severity': 'safe'}, 'self_harm': {'filtered': False, 'severity': 'safe'}, 'sexual': {'filtered': False, 'severity': 'safe'}, 'violence': {'filtered': False, 'severity': 'safe'}}}])"
      ]
     },
     "execution_count": 26,
     "metadata": {},
     "output_type": "execute_result"
    }
   ],
   "source": [
    "response = AOAI_gpt_4o.chat(\"Hello, how are you today?\")"
   ]
  },
  {
   "cell_type": "markdown",
   "metadata": {},
   "source": [
    "Inspect the response as pretty printed JSON. We can see the usage field `response.usage` and its structure:\n",
    "\n",
    "```json\n",
    "    ...,\n",
    "    \"usage\": {\n",
    "        \"completion_tokens\": 30,\n",
    "        \"prompt_tokens\": 22,\n",
    "        \"total_tokens\": 52\n",
    "    },\n",
    "    ...\n",
    "```\n"
   ]
  },
  {
   "cell_type": "code",
   "execution_count": 31,
   "metadata": {},
   "outputs": [
    {
     "name": "stdout",
     "output_type": "stream",
     "text": [
      "{\n",
      "    \"id\": \"chatcmpl-9SyKIHGTzHHIWPgBSOjPWTUyPoAGv\",\n",
      "    \"choices\": [\n",
      "        {\n",
      "            \"finish_reason\": \"stop\",\n",
      "            \"index\": 0,\n",
      "            \"logprobs\": null,\n",
      "            \"message\": {\n",
      "                \"content\": \"Hello! I'm just a computer program, so I don't have feelings, but I'm here and ready to help you. How can I assist you today?\",\n",
      "                \"role\": \"assistant\",\n",
      "                \"function_call\": null,\n",
      "                \"tool_calls\": null\n",
      "            },\n",
      "            \"content_filter_results\": {\n",
      "                \"hate\": {\n",
      "                    \"filtered\": false,\n",
      "                    \"severity\": \"safe\"\n",
      "                },\n",
      "                \"self_harm\": {\n",
      "                    \"filtered\": false,\n",
      "                    \"severity\": \"safe\"\n",
      "                },\n",
      "                \"sexual\": {\n",
      "                    \"filtered\": false,\n",
      "                    \"severity\": \"safe\"\n",
      "                },\n",
      "                \"violence\": {\n",
      "                    \"filtered\": false,\n",
      "                    \"severity\": \"safe\"\n",
      "                }\n",
      "            }\n",
      "        }\n",
      "    ],\n",
      "    \"created\": 1716692106,\n",
      "    \"model\": \"gpt-4o-2024-05-13\",\n",
      "    \"object\": \"chat.completion\",\n",
      "    \"system_fingerprint\": \"fp_5f4bad809a\",\n",
      "    \"usage\": {\n",
      "        \"completion_tokens\": 30,\n",
      "        \"prompt_tokens\": 22,\n",
      "        \"total_tokens\": 52\n",
      "    },\n",
      "    \"prompt_filter_results\": [\n",
      "        {\n",
      "            \"prompt_index\": 0,\n",
      "            \"content_filter_results\": {\n",
      "                \"hate\": {\n",
      "                    \"filtered\": false,\n",
      "                    \"severity\": \"safe\"\n",
      "                },\n",
      "                \"self_harm\": {\n",
      "                    \"filtered\": false,\n",
      "                    \"severity\": \"safe\"\n",
      "                },\n",
      "                \"sexual\": {\n",
      "                    \"filtered\": false,\n",
      "                    \"severity\": \"safe\"\n",
      "                },\n",
      "                \"violence\": {\n",
      "                    \"filtered\": false,\n",
      "                    \"severity\": \"safe\"\n",
      "                }\n",
      "            }\n",
      "        }\n",
      "    ]\n",
      "}\n"
     ]
    }
   ],
   "source": [
    "import json \n",
    "print(json.dumps(json.loads(response.json()), indent=4))"
   ]
  },
  {
   "cell_type": "code",
   "execution_count": 36,
   "metadata": {},
   "outputs": [
    {
     "name": "stdout",
     "output_type": "stream",
     "text": [
      "Input tokens: 22, output tokens: 30, total tokens: 52\n"
     ]
    }
   ],
   "source": [
    "input_tokens = response.usage.prompt_tokens\n",
    "output_tokens = response.usage.completion_tokens\n",
    "total_tokens = response.usage.total_tokens\n",
    "\n",
    "print(f\"Input tokens: {input_tokens}, output tokens: {output_tokens}, total tokens: {total_tokens}\")"
   ]
  },
  {
   "cell_type": "markdown",
   "metadata": {},
   "source": [
    "## Use Tiktoken"
   ]
  },
  {
   "cell_type": "markdown",
   "metadata": {},
   "source": [
    "To estimate input token consumption without really consuming the API, use `Tiktoken`."
   ]
  },
  {
   "cell_type": "code",
   "execution_count": 8,
   "metadata": {},
   "outputs": [],
   "source": [
    "import tiktoken"
   ]
  },
  {
   "cell_type": "code",
   "execution_count": null,
   "metadata": {},
   "outputs": [],
   "source": [
    "tiktoken.get_encoding"
   ]
  }
 ],
 "metadata": {
  "kernelspec": {
   "display_name": "venv",
   "language": "python",
   "name": "python3"
  },
  "language_info": {
   "codemirror_mode": {
    "name": "ipython",
    "version": 3
   },
   "file_extension": ".py",
   "mimetype": "text/x-python",
   "name": "python",
   "nbconvert_exporter": "python",
   "pygments_lexer": "ipython3",
   "version": "3.10.12"
  }
 },
 "nbformat": 4,
 "nbformat_minor": 2
}
