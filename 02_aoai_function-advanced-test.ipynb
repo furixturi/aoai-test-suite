{
 "cells": [
  {
   "cell_type": "markdown",
   "metadata": {},
   "source": [
    "For reference, OpenAI Doc & Cookbook:\n",
    "- [OpenAI Chat Completion Function Calling doc](https://platform.openai.com/docs/guides/function-calling)\n",
    "- [Function call with chat models](https://cookbook.openai.com/examples/how_to_call_functions_with_chat_models)\n",
    "- [Functions with a knowledge base](https://cookbook.openai.com/examples/how_to_call_functions_for_knowledge_retrieval)\n",
    "\n",
    "Azure samples:\n",
    "- [Working with Functions notebook](https://github.com/Azure-Samples/openai/blob/main/Basic_Samples/Functions/working_with_functions.ipynb)\n"
   ]
  },
  {
   "cell_type": "markdown",
   "metadata": {},
   "source": []
  }
 ],
 "metadata": {
  "language_info": {
   "name": "python"
  }
 },
 "nbformat": 4,
 "nbformat_minor": 2
}
