{
 "cells": [
  {
   "cell_type": "markdown",
   "metadata": {},
   "source": [
    "# Assistant API Test"
   ]
  },
  {
   "cell_type": "markdown",
   "metadata": {},
   "source": [
    "## Init"
   ]
  },
  {
   "cell_type": "markdown",
   "metadata": {},
   "source": [
    "- Load env"
   ]
  },
  {
   "cell_type": "code",
   "execution_count": 1,
   "metadata": {},
   "outputs": [
    {
     "data": {
      "text/plain": [
       "True"
      ]
     },
     "execution_count": 1,
     "metadata": {},
     "output_type": "execute_result"
    }
   ],
   "source": [
    "from dotenv import load_dotenv\n",
    "load_dotenv()"
   ]
  },
  {
   "cell_type": "code",
   "execution_count": 3,
   "metadata": {},
   "outputs": [],
   "source": [
    "import os\n",
    "# gpt-4o\n",
    "gpt_4o_configs = {\n",
    "    \"azure_endpoint\": os.environ[\"GPT_4O_AZURE_ENDPOINT\"],\n",
    "    \"api_key\": os.environ[\"GPT_4O_API_KEY\"],\n",
    "    \"model\": os.environ[\"GPT_4O_MODEL\"],\n",
    "    \"api_version\": os.environ[\"GPT_4O_API_VERSION\"],\n",
    "    \"default_model\": os.environ[\"GPT_4O_MODEL\"],\n",
    "}"
   ]
  },
  {
   "cell_type": "markdown",
   "metadata": {},
   "source": [
    "- Initialize client"
   ]
  },
  {
   "cell_type": "code",
   "execution_count": 25,
   "metadata": {},
   "outputs": [],
   "source": [
    "import aoai.aoai as aoai"
   ]
  },
  {
   "cell_type": "code",
   "execution_count": 26,
   "metadata": {},
   "outputs": [
    {
     "data": {
      "text/plain": [
       "<module 'aoai.aoai' from '/home/xiaolishen/projects/aoai-test-suite/aoai/aoai.py'>"
      ]
     },
     "execution_count": 26,
     "metadata": {},
     "output_type": "execute_result"
    }
   ],
   "source": [
    "import importlib\n",
    "importlib.reload(aoai)"
   ]
  },
  {
   "cell_type": "code",
   "execution_count": 27,
   "metadata": {},
   "outputs": [],
   "source": [
    "aoai = aoai.AOAI(gpt_4o_configs)"
   ]
  },
  {
   "cell_type": "markdown",
   "metadata": {},
   "source": [
    "## Assistant API Tests"
   ]
  },
  {
   "cell_type": "markdown",
   "metadata": {},
   "source": [
    "### Simple"
   ]
  },
  {
   "cell_type": "code",
   "execution_count": 21,
   "metadata": {},
   "outputs": [
    {
     "name": "stderr",
     "output_type": "stream",
     "text": [
      "2024-05-31 10:30:25,206 - httpx - INFO - HTTP Request: POST https://aoai-test-eastus2.openai.azure.com/openai/assistants?api-version=2024-05-01-preview \"HTTP/1.1 200 OK\"\n",
      "2024-05-31 10:30:25,476 - httpx - INFO - HTTP Request: POST https://aoai-test-eastus2.openai.azure.com/openai/threads?api-version=2024-05-01-preview \"HTTP/1.1 200 OK\"\n",
      "2024-05-31 10:30:25,814 - httpx - INFO - HTTP Request: POST https://aoai-test-eastus2.openai.azure.com/openai/threads/thread_4BQwhrjt9evp65oHWKa80iyq/messages?api-version=2024-05-01-preview \"HTTP/1.1 200 OK\"\n",
      "2024-05-31 10:30:26,570 - httpx - INFO - HTTP Request: POST https://aoai-test-eastus2.openai.azure.com/openai/threads/thread_4BQwhrjt9evp65oHWKa80iyq/runs?api-version=2024-05-01-preview \"HTTP/1.1 200 OK\"\n",
      "2024-05-31 10:30:26,956 - httpx - INFO - HTTP Request: GET https://aoai-test-eastus2.openai.azure.com/openai/threads/thread_4BQwhrjt9evp65oHWKa80iyq/runs/run_PGwr0k7DN6vFJ0SnOPatTrnj?api-version=2024-05-01-preview \"HTTP/1.1 200 OK\"\n",
      "2024-05-31 10:30:26,958 - root - INFO - Retrieved run status: run.id: run_PGwr0k7DN6vFJ0SnOPatTrnj, run.status: queued\n",
      "2024-05-31 10:30:27,832 - httpx - INFO - HTTP Request: GET https://aoai-test-eastus2.openai.azure.com/openai/threads/thread_4BQwhrjt9evp65oHWKa80iyq/runs/run_PGwr0k7DN6vFJ0SnOPatTrnj?api-version=2024-05-01-preview \"HTTP/1.1 200 OK\"\n",
      "2024-05-31 10:30:27,834 - root - INFO - Retrieved run status: run.id: run_PGwr0k7DN6vFJ0SnOPatTrnj, run.status: in_progress\n",
      "2024-05-31 10:30:28,659 - httpx - INFO - HTTP Request: GET https://aoai-test-eastus2.openai.azure.com/openai/threads/thread_4BQwhrjt9evp65oHWKa80iyq/runs/run_PGwr0k7DN6vFJ0SnOPatTrnj?api-version=2024-05-01-preview \"HTTP/1.1 200 OK\"\n",
      "2024-05-31 10:30:28,661 - root - INFO - Retrieved run status: run.id: run_PGwr0k7DN6vFJ0SnOPatTrnj, run.status: completed\n",
      "2024-05-31 10:30:28,993 - httpx - INFO - HTTP Request: GET https://aoai-test-eastus2.openai.azure.com/openai/threads/thread_4BQwhrjt9evp65oHWKa80iyq/messages?api-version=2024-05-01-preview&order=asc \"HTTP/1.1 200 OK\"\n"
     ]
    }
   ],
   "source": [
    "simple_assistant = aoai.assistant_create(name =\"Math_Tutor\", instructions=\"You are a math tutor.\", model=\"gpt-4o\")\n",
    "thread = aoai.assistant_thread_create() # assistant and thread are mutually independent\n",
    "run = aoai.assistant_submit_message_to_thread_and_run(assistant=simple_assistant, thread=thread, message=\"What is 2^2?\")\n",
    "thread, run = aoai.assistant_wait_on_thread_run(thread=thread, run=run)\n",
    "messages = aoai.assistant_retrieve_messages_by_thread(thread=thread)"
   ]
  },
  {
   "cell_type": "code",
   "execution_count": 23,
   "metadata": {},
   "outputs": [
    {
     "name": "stdout",
     "output_type": "stream",
     "text": [
      "message id: msg_TK0CuZp6J42txl4m827fZqSm | created_at: 1717119025, completed_at: None | role: user | content: What is 2^2?\n",
      "message id: msg_dw2r1amXXrRAgNs2GSCLKkaf | created_at: 1717119026, completed_at: None | role: assistant | content: \\( 2^2 \\) is \\( 2 \\times 2 = 4 \\).\n"
     ]
    },
    {
     "name": "stderr",
     "output_type": "stream",
     "text": [
      "2024-05-31 10:39:13,877 - httpx - INFO - HTTP Request: GET https://aoai-test-eastus2.openai.azure.com/openai/threads/thread_4BQwhrjt9evp65oHWKa80iyq/messages?api-version=2024-05-01-preview&order=asc&after=msg_dw2r1amXXrRAgNs2GSCLKkaf \"HTTP/1.1 200 OK\"\n"
     ]
    }
   ],
   "source": [
    "for m in messages:\n",
    "    print(f\"message id: {m.id} | created_at: {m.created_at}, completed_at: {m.completed_at} | role: {m.role} | content: {m.content[0].text.value}\")"
   ]
  },
  {
   "cell_type": "markdown",
   "metadata": {},
   "source": [
    "### Assitant with Code Interpreter"
   ]
  },
  {
   "cell_type": "code",
   "execution_count": 28,
   "metadata": {},
   "outputs": [
    {
     "name": "stderr",
     "output_type": "stream",
     "text": [
      "2024-05-31 15:01:44,972 - httpx - INFO - HTTP Request: POST https://aoai-test-eastus2.openai.azure.com/openai/assistants?api-version=2024-05-01-preview \"HTTP/1.1 200 OK\"\n"
     ]
    }
   ],
   "source": [
    "assistant = aoai.assistant_create(name =\"Math_Tutor\", instructions=\"You are a math tutor.\", model=\"gpt-4-turbo-2024-04-09\", tools=[{\"type\": \"code_interpreter\"}])"
   ]
  },
  {
   "cell_type": "code",
   "execution_count": 29,
   "metadata": {},
   "outputs": [
    {
     "data": {
      "text/plain": [
       "Assistant(id='asst_BrAxIniq3ki8zRKJqlm27AsV', created_at=1717135304, description=None, instructions='You are a math tutor.', metadata={}, model='gpt-4-turbo-2024-04-09', name='Math_Tutor', object='assistant', tools=[CodeInterpreterTool(type='code_interpreter')], response_format='auto', temperature=1.0, tool_resources=ToolResources(code_interpreter=ToolResourcesCodeInterpreter(file_ids=[]), file_search=None), top_p=1.0)"
      ]
     },
     "execution_count": 29,
     "metadata": {},
     "output_type": "execute_result"
    }
   ],
   "source": [
    "assistant"
   ]
  },
  {
   "cell_type": "code",
   "execution_count": 30,
   "metadata": {},
   "outputs": [
    {
     "name": "stderr",
     "output_type": "stream",
     "text": [
      "2024-05-31 15:03:32,050 - httpx - INFO - HTTP Request: POST https://aoai-test-eastus2.openai.azure.com/openai/threads?api-version=2024-05-01-preview \"HTTP/1.1 200 OK\"\n",
      "2024-05-31 15:03:32,357 - httpx - INFO - HTTP Request: POST https://aoai-test-eastus2.openai.azure.com/openai/threads/thread_30JrMbzPUD6lh927mFk421Ds/messages?api-version=2024-05-01-preview \"HTTP/1.1 200 OK\"\n",
      "2024-05-31 15:03:33,086 - httpx - INFO - HTTP Request: POST https://aoai-test-eastus2.openai.azure.com/openai/threads/thread_30JrMbzPUD6lh927mFk421Ds/runs?api-version=2024-05-01-preview \"HTTP/1.1 200 OK\"\n",
      "2024-05-31 15:03:33,447 - httpx - INFO - HTTP Request: GET https://aoai-test-eastus2.openai.azure.com/openai/threads/thread_30JrMbzPUD6lh927mFk421Ds/runs/run_a7Vhc1LwH0LayDlBzc3SrEyE?api-version=2024-05-01-preview \"HTTP/1.1 200 OK\"\n",
      "2024-05-31 15:03:36,810 - httpx - INFO - HTTP Request: GET https://aoai-test-eastus2.openai.azure.com/openai/threads/thread_30JrMbzPUD6lh927mFk421Ds/runs/run_a7Vhc1LwH0LayDlBzc3SrEyE?api-version=2024-05-01-preview \"HTTP/1.1 200 OK\"\n",
      "2024-05-31 15:03:40,181 - httpx - INFO - HTTP Request: GET https://aoai-test-eastus2.openai.azure.com/openai/threads/thread_30JrMbzPUD6lh927mFk421Ds/runs/run_a7Vhc1LwH0LayDlBzc3SrEyE?api-version=2024-05-01-preview \"HTTP/1.1 200 OK\"\n",
      "2024-05-31 15:03:43,546 - httpx - INFO - HTTP Request: GET https://aoai-test-eastus2.openai.azure.com/openai/threads/thread_30JrMbzPUD6lh927mFk421Ds/runs/run_a7Vhc1LwH0LayDlBzc3SrEyE?api-version=2024-05-01-preview \"HTTP/1.1 200 OK\"\n",
      "2024-05-31 15:03:46,866 - httpx - INFO - HTTP Request: GET https://aoai-test-eastus2.openai.azure.com/openai/threads/thread_30JrMbzPUD6lh927mFk421Ds/runs/run_a7Vhc1LwH0LayDlBzc3SrEyE?api-version=2024-05-01-preview \"HTTP/1.1 200 OK\"\n",
      "2024-05-31 15:03:50,184 - httpx - INFO - HTTP Request: GET https://aoai-test-eastus2.openai.azure.com/openai/threads/thread_30JrMbzPUD6lh927mFk421Ds/runs/run_a7Vhc1LwH0LayDlBzc3SrEyE?api-version=2024-05-01-preview \"HTTP/1.1 200 OK\"\n",
      "2024-05-31 15:03:53,502 - httpx - INFO - HTTP Request: GET https://aoai-test-eastus2.openai.azure.com/openai/threads/thread_30JrMbzPUD6lh927mFk421Ds/runs/run_a7Vhc1LwH0LayDlBzc3SrEyE?api-version=2024-05-01-preview \"HTTP/1.1 200 OK\"\n",
      "2024-05-31 15:03:56,820 - httpx - INFO - HTTP Request: GET https://aoai-test-eastus2.openai.azure.com/openai/threads/thread_30JrMbzPUD6lh927mFk421Ds/runs/run_a7Vhc1LwH0LayDlBzc3SrEyE?api-version=2024-05-01-preview \"HTTP/1.1 200 OK\"\n",
      "2024-05-31 15:04:00,142 - httpx - INFO - HTTP Request: GET https://aoai-test-eastus2.openai.azure.com/openai/threads/thread_30JrMbzPUD6lh927mFk421Ds/runs/run_a7Vhc1LwH0LayDlBzc3SrEyE?api-version=2024-05-01-preview \"HTTP/1.1 200 OK\"\n",
      "2024-05-31 15:04:03,463 - httpx - INFO - HTTP Request: GET https://aoai-test-eastus2.openai.azure.com/openai/threads/thread_30JrMbzPUD6lh927mFk421Ds/runs/run_a7Vhc1LwH0LayDlBzc3SrEyE?api-version=2024-05-01-preview \"HTTP/1.1 200 OK\"\n",
      "2024-05-31 15:04:06,776 - httpx - INFO - HTTP Request: GET https://aoai-test-eastus2.openai.azure.com/openai/threads/thread_30JrMbzPUD6lh927mFk421Ds/runs/run_a7Vhc1LwH0LayDlBzc3SrEyE?api-version=2024-05-01-preview \"HTTP/1.1 200 OK\"\n",
      "2024-05-31 15:04:10,093 - httpx - INFO - HTTP Request: GET https://aoai-test-eastus2.openai.azure.com/openai/threads/thread_30JrMbzPUD6lh927mFk421Ds/runs/run_a7Vhc1LwH0LayDlBzc3SrEyE?api-version=2024-05-01-preview \"HTTP/1.1 200 OK\"\n",
      "2024-05-31 15:04:10,411 - httpx - INFO - HTTP Request: GET https://aoai-test-eastus2.openai.azure.com/openai/threads/thread_30JrMbzPUD6lh927mFk421Ds/messages?api-version=2024-05-01-preview&order=asc \"HTTP/1.1 200 OK\"\n"
     ]
    }
   ],
   "source": [
    "thread = aoai.assistant_thread_create()\n",
    "run = aoai.assistant_submit_message_to_thread_and_run(assistant=assistant, thread=thread, message=\"Write me a sample function generating fibonacci numbers.\")\n",
    "thread, run = aoai.assistant_wait_on_thread_run(thread=thread, run=run)\n",
    "messages = aoai.assistant_retrieve_messages_by_thread(thread=thread)"
   ]
  },
  {
   "cell_type": "code",
   "execution_count": 31,
   "metadata": {},
   "outputs": [
    {
     "name": "stdout",
     "output_type": "stream",
     "text": [
      "2024-05-31 15:03:31 | user: Write me a sample function generating fibonacci numbers.\n",
      "2024-05-31 15:03:33 | assistant: A commonly used approach to generate Fibonacci numbers is using a function that can either compute these numbers recursively, iteratively, or using dynamic programming. Let me show you an example of a simple function that generates Fibonacci numbers iteratively, which is efficient and easy to understand. The iterative method avoids the large recursion stack overhead and repeated calculations found in the recursive implementation.\n",
      "\n",
      "```python\n",
      "def fibonacci(n):\n",
      "    \"\"\"\n",
      "    Generate the nth Fibonacci number iteratively.\n",
      "    \n",
      "    Args:\n",
      "    n (int): The nth position in the Fibonacci sequence to generate (0-indexed).\n",
      "    \n",
      "    Returns:\n",
      "    int: The nth Fibonacci number.\n",
      "    \"\"\"\n",
      "    if n == 0:\n",
      "        return 0\n",
      "    elif n == 1:\n",
      "        return 1\n",
      "    \n",
      "    a, b = 0, 1\n",
      "    for _ in range(2, n + 1):\n",
      "        a, b = b, a + b\n",
      "    return b\n",
      "\n",
      "# You can use this function to print the first few Fibonacci numbers:\n",
      "for i in range(10):  # Print the first 10 Fibonacci numbers\n",
      "    print(fibonacci(i))\n",
      "```\n",
      "\n",
      "This function initializes two variables, `a` and `b`, to the first two Fibonacci numbers, 0 and 1, respectively. It then iterates from 2 up to `n`, updating `a` and `b` at each step such that `a` becomes the previous `b`, and `b` becomes the sum of `a` and `b` before the update. At the end of the loop, `b` will contain the nth Fibonacci number.\n"
     ]
    },
    {
     "name": "stderr",
     "output_type": "stream",
     "text": [
      "2024-05-31 15:04:53,058 - httpx - INFO - HTTP Request: GET https://aoai-test-eastus2.openai.azure.com/openai/threads/thread_30JrMbzPUD6lh927mFk421Ds/messages?api-version=2024-05-01-preview&order=asc&after=msg_vjQfAFhGsqZw7JEvzFp4KVok \"HTTP/1.1 200 OK\"\n"
     ]
    }
   ],
   "source": [
    "import datetime\n",
    "for m in messages:\n",
    "    print(f\"{datetime.datetime.fromtimestamp(m.created_at)} | {m.role}: {m.content[0].text.value}\")"
   ]
  },
  {
   "cell_type": "code",
   "execution_count": 32,
   "metadata": {},
   "outputs": [
    {
     "name": "stderr",
     "output_type": "stream",
     "text": [
      "2024-05-31 15:33:05,029 - httpx - INFO - HTTP Request: GET https://aoai-test-eastus2.openai.azure.com/openai/threads/thread_30JrMbzPUD6lh927mFk421Ds/runs/run_a7Vhc1LwH0LayDlBzc3SrEyE/steps?api-version=2024-05-01-preview&order=asc \"HTTP/1.1 200 OK\"\n"
     ]
    }
   ],
   "source": [
    "run_steps = aoai.client.beta.threads.runs.steps.list(thread_id=thread.id, run_id=run.id, order=\"asc\")"
   ]
  },
  {
   "cell_type": "code",
   "execution_count": 34,
   "metadata": {},
   "outputs": [
    {
     "name": "stdout",
     "output_type": "stream",
     "text": [
      "RunStep(id='step_4zcNRLNcMsQGPFOhdElBVie7', assistant_id='asst_BrAxIniq3ki8zRKJqlm27AsV', cancelled_at=None, completed_at=1717135448, created_at=1717135413, expired_at=None, failed_at=None, last_error=None, metadata=None, object='thread.run.step', run_id='run_a7Vhc1LwH0LayDlBzc3SrEyE', status='completed', step_details=MessageCreationStepDetails(message_creation=MessageCreation(message_id='msg_vjQfAFhGsqZw7JEvzFp4KVok'), type='message_creation'), thread_id='thread_30JrMbzPUD6lh927mFk421Ds', type='message_creation', usage=Usage(completion_tokens=329, prompt_tokens=124, total_tokens=453), expires_at=None)\n"
     ]
    }
   ],
   "source": [
    "for step in run_steps.data:\n",
    "    print(step)"
   ]
  },
  {
   "cell_type": "markdown",
   "metadata": {},
   "source": [
    "### Test with raw client"
   ]
  },
  {
   "cell_type": "code",
   "execution_count": 36,
   "metadata": {},
   "outputs": [
    {
     "name": "stderr",
     "output_type": "stream",
     "text": [
      "2024-05-31 15:52:22,443 - httpx - INFO - HTTP Request: POST https://aoai-test-eastus2.openai.azure.com/openai/threads?api-version=2024-05-01-preview \"HTTP/1.1 200 OK\"\n",
      "2024-05-31 15:52:22,764 - httpx - INFO - HTTP Request: POST https://aoai-test-eastus2.openai.azure.com/openai/threads/thread_JcW0OfoIBX5FulLLhsdwCMmt/messages?api-version=2024-05-01-preview \"HTTP/1.1 200 OK\"\n"
     ]
    }
   ],
   "source": [
    "thread_2 = aoai.client.beta.threads.create()\n",
    "message = aoai.client.beta.threads.messages.create(thread_id=thread_2.id, role=\"user\", content=\"Can you solve this: `3x + 11 = 14`?\")"
   ]
  },
  {
   "cell_type": "code",
   "execution_count": 37,
   "metadata": {},
   "outputs": [
    {
     "name": "stderr",
     "output_type": "stream",
     "text": [
      "2024-05-31 15:54:53,467 - httpx - INFO - HTTP Request: POST https://aoai-test-eastus2.openai.azure.com/openai/threads/thread_JcW0OfoIBX5FulLLhsdwCMmt/runs?api-version=2024-05-01-preview \"HTTP/1.1 200 OK\"\n",
      "2024-05-31 15:54:53,827 - httpx - INFO - HTTP Request: GET https://aoai-test-eastus2.openai.azure.com/openai/threads/thread_JcW0OfoIBX5FulLLhsdwCMmt/runs/run_b0sOX8kHubUL62CzBibZkFyN?api-version=2024-05-01-preview \"HTTP/1.1 200 OK\"\n",
      "2024-05-31 15:54:55,186 - httpx - INFO - HTTP Request: GET https://aoai-test-eastus2.openai.azure.com/openai/threads/thread_JcW0OfoIBX5FulLLhsdwCMmt/runs/run_b0sOX8kHubUL62CzBibZkFyN?api-version=2024-05-01-preview \"HTTP/1.1 200 OK\"\n",
      "2024-05-31 15:54:56,553 - httpx - INFO - HTTP Request: GET https://aoai-test-eastus2.openai.azure.com/openai/threads/thread_JcW0OfoIBX5FulLLhsdwCMmt/runs/run_b0sOX8kHubUL62CzBibZkFyN?api-version=2024-05-01-preview \"HTTP/1.1 200 OK\"\n",
      "2024-05-31 15:54:57,909 - httpx - INFO - HTTP Request: GET https://aoai-test-eastus2.openai.azure.com/openai/threads/thread_JcW0OfoIBX5FulLLhsdwCMmt/runs/run_b0sOX8kHubUL62CzBibZkFyN?api-version=2024-05-01-preview \"HTTP/1.1 200 OK\"\n",
      "2024-05-31 15:54:59,225 - httpx - INFO - HTTP Request: GET https://aoai-test-eastus2.openai.azure.com/openai/threads/thread_JcW0OfoIBX5FulLLhsdwCMmt/runs/run_b0sOX8kHubUL62CzBibZkFyN?api-version=2024-05-01-preview \"HTTP/1.1 200 OK\"\n",
      "2024-05-31 15:55:00,538 - httpx - INFO - HTTP Request: GET https://aoai-test-eastus2.openai.azure.com/openai/threads/thread_JcW0OfoIBX5FulLLhsdwCMmt/runs/run_b0sOX8kHubUL62CzBibZkFyN?api-version=2024-05-01-preview \"HTTP/1.1 200 OK\"\n",
      "2024-05-31 15:55:01,871 - httpx - INFO - HTTP Request: GET https://aoai-test-eastus2.openai.azure.com/openai/threads/thread_JcW0OfoIBX5FulLLhsdwCMmt/runs/run_b0sOX8kHubUL62CzBibZkFyN?api-version=2024-05-01-preview \"HTTP/1.1 200 OK\"\n",
      "2024-05-31 15:55:03,187 - httpx - INFO - HTTP Request: GET https://aoai-test-eastus2.openai.azure.com/openai/threads/thread_JcW0OfoIBX5FulLLhsdwCMmt/runs/run_b0sOX8kHubUL62CzBibZkFyN?api-version=2024-05-01-preview \"HTTP/1.1 200 OK\"\n",
      "2024-05-31 15:55:04,499 - httpx - INFO - HTTP Request: GET https://aoai-test-eastus2.openai.azure.com/openai/threads/thread_JcW0OfoIBX5FulLLhsdwCMmt/runs/run_b0sOX8kHubUL62CzBibZkFyN?api-version=2024-05-01-preview \"HTTP/1.1 200 OK\"\n",
      "2024-05-31 15:55:05,818 - httpx - INFO - HTTP Request: GET https://aoai-test-eastus2.openai.azure.com/openai/threads/thread_JcW0OfoIBX5FulLLhsdwCMmt/runs/run_b0sOX8kHubUL62CzBibZkFyN?api-version=2024-05-01-preview \"HTTP/1.1 200 OK\"\n",
      "2024-05-31 15:55:06,132 - httpx - INFO - HTTP Request: GET https://aoai-test-eastus2.openai.azure.com/openai/threads/thread_JcW0OfoIBX5FulLLhsdwCMmt/messages?api-version=2024-05-01-preview \"HTTP/1.1 200 OK\"\n"
     ]
    },
    {
     "name": "stdout",
     "output_type": "stream",
     "text": [
      "Message(id='msg_EYyQYQAVqsEfqgfEYUTo38P3', assistant_id=None, attachments=[], completed_at=None, content=[TextContentBlock(text=Text(annotations=[], value='Can you solve this: `3x + 11 = 14`?'), type='text')], created_at=1717138342, incomplete_at=None, incomplete_details=None, metadata={}, object='thread.message', role='user', run_id=None, status=None, thread_id='thread_JcW0OfoIBX5FulLLhsdwCMmt')\n"
     ]
    }
   ],
   "source": [
    "run = aoai.client.beta.threads.runs.create_and_poll(thread_id=thread_2.id, assistant_id=assistant.id, instructions=\"Please address the user as Jane Doe. The user has a premium account.\")\n",
    "if run.status == 'completed':\n",
    "    messages = aoai.client.beta.threads.messages.list(thread_id=thread_2.id)\n",
    "    print(message)\n",
    "else:\n",
    "    print(run.status)"
   ]
  },
  {
   "cell_type": "code",
   "execution_count": 38,
   "metadata": {},
   "outputs": [
    {
     "name": "stderr",
     "output_type": "stream",
     "text": [
      "2024-05-31 15:57:29,599 - httpx - INFO - HTTP Request: POST https://aoai-test-eastus2.openai.azure.com/openai/threads/thread_30JrMbzPUD6lh927mFk421Ds/runs?api-version=2024-05-01-preview \"HTTP/1.1 200 OK\"\n"
     ]
    },
    {
     "name": "stdout",
     "output_type": "stream",
     "text": [
      "\n",
      "assistant > If you have any specific requests regarding Fibonacci numbers or any modifications to the function, please let me know! I'm here to help."
     ]
    }
   ],
   "source": [
    "# https://platform.openai.com/docs/assistants/overview?context=with-streaming\n",
    "from typing_extensions import override\n",
    "from openai import AssistantEventHandler\n",
    "\n",
    "# First, we create a EventHandler class to define\n",
    "# how we want to handle the events in the response stream.\n",
    "\n",
    "\n",
    "class EventHandler(AssistantEventHandler):\n",
    "    @override\n",
    "    def on_text_created(self, text) -> None:\n",
    "        print(f\"\\nassistant > \", end=\"\", flush=True)\n",
    "\n",
    "    @override\n",
    "    def on_text_delta(self, delta, snapshot):\n",
    "        print(delta.value, end=\"\", flush=True)\n",
    "\n",
    "    def on_tool_call_created(self, tool_call):\n",
    "        print(f\"\\nassistant > {tool_call.type}\\n\", flush=True)\n",
    "\n",
    "    def on_tool_call_delta(self, delta, snapshot):\n",
    "        if delta.type == \"code_interpreter\":\n",
    "            if delta.code_interpreter.input:\n",
    "                print(delta.code_interpreter.input, end=\"\", flush=True)\n",
    "            if delta.code_interpreter.outputs:\n",
    "                print(f\"\\n\\noutput >\", flush=True)\n",
    "                for output in delta.code_interpreter.outputs:\n",
    "                    if output.type == \"logs\":\n",
    "                        print(f\"\\n{output.logs}\", flush=True)\n"
   ]
  },
  {
   "cell_type": "code",
   "execution_count": 39,
   "metadata": {},
   "outputs": [
    {
     "name": "stderr",
     "output_type": "stream",
     "text": [
      "2024-05-31 15:59:40,399 - httpx - INFO - HTTP Request: POST https://aoai-test-eastus2.openai.azure.com/openai/threads?api-version=2024-05-01-preview \"HTTP/1.1 200 OK\"\n",
      "2024-05-31 15:59:40,720 - httpx - INFO - HTTP Request: POST https://aoai-test-eastus2.openai.azure.com/openai/threads/thread_DvbZPVmhlFgDNJP3bGUjY3cH/messages?api-version=2024-05-01-preview \"HTTP/1.1 200 OK\"\n"
     ]
    }
   ],
   "source": [
    "thread_3 = aoai.client.beta.threads.create()\n",
    "message = aoai.client.beta.threads.messages.create(thread_id=thread_3.id, role=\"user\", content=\"Can you solve this: `3x + 11 = 14`?\")"
   ]
  },
  {
   "cell_type": "code",
   "execution_count": 41,
   "metadata": {},
   "outputs": [
    {
     "name": "stderr",
     "output_type": "stream",
     "text": [
      "2024-05-31 16:00:08,239 - httpx - INFO - HTTP Request: POST https://aoai-test-eastus2.openai.azure.com/openai/threads/thread_DvbZPVmhlFgDNJP3bGUjY3cH/runs?api-version=2024-05-01-preview \"HTTP/1.1 200 OK\"\n"
     ]
    },
    {
     "name": "stdout",
     "output_type": "stream",
     "text": [
      "\n",
      "assistant > Certainly! To solve the equation \\(3x + 11 = 14\\), we need to isolate \\(x\\) on one side. Here are the steps:\n",
      "\n",
      "1. Subtract \\(11\\) from both sides of the equation:\n",
      "   \\[3x + 11 - 11 = 14 - 11\\]\n",
      "2. Simplify the equation:\n",
      "   \\[3x = 3\\]\n",
      "3. Divide both sides by \\(3\\) to solve for \\(x\\):\n",
      "   \\[x = \\frac{3}{3}\\]\n",
      "\n",
      "Let’s calculate the value of \\(x\\)."
     ]
    }
   ],
   "source": [
    "# Then, we use the `stream` SDK helper\n",
    "# with the `EventHandler` class to create the Run\n",
    "# and stream the response.\n",
    "\n",
    "with aoai.client.beta.threads.runs.stream(\n",
    "    thread_id=thread_3.id,\n",
    "    assistant_id=assistant.id,\n",
    "    instructions=\"Please address the user as Jane Doe. The user has a premium account.\",\n",
    "    event_handler=EventHandler(),\n",
    ") as stream:\n",
    "    stream.until_done()"
   ]
  },
  {
   "cell_type": "code",
   "execution_count": 42,
   "metadata": {},
   "outputs": [
    {
     "name": "stderr",
     "output_type": "stream",
     "text": [
      "2024-05-31 16:01:28,708 - httpx - INFO - HTTP Request: POST https://aoai-test-eastus2.openai.azure.com/openai/threads/thread_DvbZPVmhlFgDNJP3bGUjY3cH/messages?api-version=2024-05-01-preview \"HTTP/1.1 200 OK\"\n",
      "2024-05-31 16:01:29,480 - httpx - INFO - HTTP Request: POST https://aoai-test-eastus2.openai.azure.com/openai/threads/thread_DvbZPVmhlFgDNJP3bGUjY3cH/runs?api-version=2024-05-01-preview \"HTTP/1.1 200 OK\"\n"
     ]
    },
    {
     "name": "stdout",
     "output_type": "stream",
     "text": [
      "\n",
      "assistant > Let's solve the equation \\(3x + 11 = 14\\) for \\(x\\).\n",
      "\n",
      "First, we'll isolate \\(x\\) by performing the appropriate algebraic steps:\n",
      "\n",
      "1. Subtract 11 from both sides of the equation:\n",
      "\\[ 3x + 11 - 11 = 14 - 11 \\]\n",
      "\n",
      "2. Simplify the equation:\n",
      "\\[ 3x = 3 \\]\n",
      "\n",
      "3. Divide both sides by 3 to solve for \\(x\\):\n",
      "\\[ x = \\frac{3}{3} \\]\n",
      "\n",
      "Let's do that calculation.\n",
      "assistant > code_interpreter\n",
      "\n",
      "# Computing the value of x\n",
      "x_value = (14 - 11) / 3\n",
      "x_value\n",
      "\n",
      "output >\n",
      "\n",
      "1.0\n"
     ]
    }
   ],
   "source": [
    "message = aoai.client.beta.threads.messages.create(thread_id=thread_3.id, role=\"user\", content=\"You didn't give me a final answer of the value of x.\")\n",
    "# Then, we use the `stream` SDK helper\n",
    "# with the `EventHandler` class to create the Run\n",
    "# and stream the response.\n",
    "\n",
    "with aoai.client.beta.threads.runs.stream(\n",
    "    thread_id=thread_3.id,\n",
    "    assistant_id=assistant.id,\n",
    "    instructions=\"Please address the user as Jane Doe. The user has a premium account.\",\n",
    "    event_handler=EventHandler(),\n",
    ") as stream:\n",
    "    stream.until_done()"
   ]
  },
  {
   "cell_type": "code",
   "execution_count": null,
   "metadata": {},
   "outputs": [],
   "source": []
  }
 ],
 "metadata": {
  "kernelspec": {
   "display_name": "venv",
   "language": "python",
   "name": "python3"
  },
  "language_info": {
   "codemirror_mode": {
    "name": "ipython",
    "version": 3
   },
   "file_extension": ".py",
   "mimetype": "text/x-python",
   "name": "python",
   "nbconvert_exporter": "python",
   "pygments_lexer": "ipython3",
   "version": "3.10.12"
  }
 },
 "nbformat": 4,
 "nbformat_minor": 2
}
